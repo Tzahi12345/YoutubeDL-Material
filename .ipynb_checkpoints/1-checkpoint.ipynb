{
 "cells": [
  {
   "cell_type": "code",
   "execution_count": 7,
   "id": "1680390a",
   "metadata": {},
   "outputs": [],
   "source": [
    "import numpy as np \n",
    "#import pandas as pd\n",
    "import numba\n",
    "\n",
    "a = np.arange(0, 100).reshape((10, 10))"
   ]
  },
  {
   "cell_type": "code",
   "execution_count": 4,
   "id": "310db278",
   "metadata": {},
   "outputs": [
    {
     "data": {
      "text/plain": [
       "array([[ 0,  1,  2,  3,  4,  5,  6,  7,  8,  9],\n",
       "       [10, 11, 12, 13, 14, 15, 16, 17, 18, 19],\n",
       "       [20, 21, 22, 23, 24, 25, 26, 27, 28, 29],\n",
       "       [30, 31, 32, 33, 34, 35, 36, 37, 38, 39],\n",
       "       [40, 41, 42, 43, 44, 45, 46, 47, 48, 49],\n",
       "       [50, 51, 52, 53, 54, 55, 56, 57, 58, 59],\n",
       "       [60, 61, 62, 63, 64, 65, 66, 67, 68, 69],\n",
       "       [70, 71, 72, 73, 74, 75, 76, 77, 78, 79],\n",
       "       [80, 81, 82, 83, 84, 85, 86, 87, 88, 89],\n",
       "       [90, 91, 92, 93, 94, 95, 96, 97, 98, 99]])"
      ]
     },
     "execution_count": 4,
     "metadata": {},
     "output_type": "execute_result"
    }
   ],
   "source": [
    "a"
   ]
  },
  {
   "cell_type": "code",
   "execution_count": 5,
   "id": "faa10de1",
   "metadata": {},
   "outputs": [],
   "source": [
    "b = np.arange(0, 100).reshape((10, 10))"
   ]
  },
  {
   "cell_type": "code",
   "execution_count": 6,
   "id": "1b3f8390",
   "metadata": {
    "scrolled": true
   },
   "outputs": [
    {
     "data": {
      "text/plain": [
       "array([[ 0,  1,  2,  3,  4,  5,  6,  7,  8,  9],\n",
       "       [10, 11, 12, 13, 14, 15, 16, 17, 18, 19],\n",
       "       [20, 21, 22, 23, 24, 25, 26, 27, 28, 29],\n",
       "       [30, 31, 32, 33, 34, 35, 36, 37, 38, 39],\n",
       "       [40, 41, 42, 43, 44, 45, 46, 47, 48, 49],\n",
       "       [50, 51, 52, 53, 54, 55, 56, 57, 58, 59],\n",
       "       [60, 61, 62, 63, 64, 65, 66, 67, 68, 69],\n",
       "       [70, 71, 72, 73, 74, 75, 76, 77, 78, 79],\n",
       "       [80, 81, 82, 83, 84, 85, 86, 87, 88, 89],\n",
       "       [90, 91, 92, 93, 94, 95, 96, 97, 98, 99]])"
      ]
     },
     "execution_count": 6,
     "metadata": {},
     "output_type": "execute_result"
    }
   ],
   "source": [
    "b"
   ]
  },
  {
   "cell_type": "code",
   "execution_count": 8,
   "id": "b41bf00e",
   "metadata": {},
   "outputs": [
    {
     "name": "stdout",
     "output_type": "stream",
     "text": [
      "CPU times: user 5 µs, sys: 5 µs, total: 10 µs\n",
      "Wall time: 27.2 µs\n",
      "[[   0    1    4    9   16   25   36   49   64   81]\n",
      " [ 100  121  144  169  196  225  256  289  324  361]\n",
      " [ 400  441  484  529  576  625  676  729  784  841]\n",
      " [ 900  961 1024 1089 1156 1225 1296 1369 1444 1521]\n",
      " [1600 1681 1764 1849 1936 2025 2116 2209 2304 2401]\n",
      " [2500 2601 2704 2809 2916 3025 3136 3249 3364 3481]\n",
      " [3600 3721 3844 3969 4096 4225 4356 4489 4624 4761]\n",
      " [4900 5041 5184 5329 5476 5625 5776 5929 6084 6241]\n",
      " [6400 6561 6724 6889 7056 7225 7396 7569 7744 7921]\n",
      " [8100 8281 8464 8649 8836 9025 9216 9409 9604 9801]]\n"
     ]
    }
   ],
   "source": [
    "%time\n",
    "print(a*b)"
   ]
  },
  {
   "cell_type": "code",
   "execution_count": 10,
   "id": "cc136a95",
   "metadata": {},
   "outputs": [],
   "source": [
    "@numba.jit\n",
    "def f(x, y):\n",
    "    print (x*y)\n",
    "    return 0"
   ]
  },
  {
   "cell_type": "code",
   "execution_count": 11,
   "id": "f2931e0c",
   "metadata": {},
   "outputs": [
    {
     "name": "stdout",
     "output_type": "stream",
     "text": [
      "CPU times: user 4 µs, sys: 1e+03 ns, total: 5 µs\n",
      "Wall time: 14.1 µs\n",
      "[[   0    1    4    9   16   25   36   49   64   81]\n",
      " [ 100  121  144  169  196  225  256  289  324  361]\n",
      " [ 400  441  484  529  576  625  676  729  784  841]\n",
      " [ 900  961 1024 1089 1156 1225 1296 1369 1444 1521]\n",
      " [1600 1681 1764 1849 1936 2025 2116 2209 2304 2401]\n",
      " [2500 2601 2704 2809 2916 3025 3136 3249 3364 3481]\n",
      " [3600 3721 3844 3969 4096 4225 4356 4489 4624 4761]\n",
      " [4900 5041 5184 5329 5476 5625 5776 5929 6084 6241]\n",
      " [6400 6561 6724 6889 7056 7225 7396 7569 7744 7921]\n",
      " [8100 8281 8464 8649 8836 9025 9216 9409 9604 9801]]\n"
     ]
    },
    {
     "data": {
      "text/plain": [
       "0"
      ]
     },
     "execution_count": 11,
     "metadata": {},
     "output_type": "execute_result"
    }
   ],
   "source": [
    "%time\n",
    "f(a,b)"
   ]
  }
 ],
 "metadata": {
  "kernelspec": {
   "display_name": "Python 3 (ipykernel)",
   "language": "python",
   "name": "python3"
  },
  "language_info": {
   "codemirror_mode": {
    "name": "ipython",
    "version": 3
   },
   "file_extension": ".py",
   "mimetype": "text/x-python",
   "name": "python",
   "nbconvert_exporter": "python",
   "pygments_lexer": "ipython3",
   "version": "3.10.4"
  }
 },
 "nbformat": 4,
 "nbformat_minor": 5
}
